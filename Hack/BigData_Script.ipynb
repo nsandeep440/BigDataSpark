{
 "cells": [
  {
   "cell_type": "code",
   "execution_count": 1,
   "metadata": {
    "collapsed": true
   },
   "outputs": [],
   "source": [
    "## Set python -Spark Environment\n",
    "import os\n",
    "import sys\n",
    "os.environ[\"SPARK_HOME\"] = \"/usr/hdp/current/spark2-client\"\n",
    "os.environ[\"PYLIB\"] = os.environ[\"SPARK_HOME\"] + \"/python/lib\"\n",
    "sys.path.insert(0, os.environ[\"PYLIB\"] + \"/py4j-0.10.4-src.zip\")\n",
    "sys.path.insert(0, os.environ[\"PYLIB\"] + \"/pyspark.zip\")"
   ]
  },
  {
   "cell_type": "code",
   "execution_count": 2,
   "metadata": {
    "collapsed": true
   },
   "outputs": [],
   "source": [
    "## Create Spark Context Spark Session\n",
    "from pyspark.sql import SparkSession\n",
    "from pyspark import SparkContext\n",
    "sc = SparkContext()\n",
    "spark = SparkSession(sc)"
   ]
  },
  {
   "cell_type": "code",
   "execution_count": 3,
   "metadata": {},
   "outputs": [
    {
     "data": {
      "text/plain": [
       "<pyspark.context.SparkContext at 0x25cda90>"
      ]
     },
     "execution_count": 3,
     "metadata": {},
     "output_type": "execute_result"
    }
   ],
   "source": [
    "sc"
   ]
  },
  {
   "cell_type": "code",
   "execution_count": 4,
   "metadata": {
    "collapsed": true
   },
   "outputs": [],
   "source": [
    "from pyspark.sql import SQLContext\n",
    "sqlContext = SQLContext(sc)"
   ]
  },
  {
   "cell_type": "code",
   "execution_count": 5,
   "metadata": {
    "collapsed": true
   },
   "outputs": [],
   "source": [
    "from pyspark.ml.feature import VectorIndexer\n",
    "from pyspark.ml.feature import OneHotEncoder\n",
    "from pyspark.ml.feature import StringIndexer\n",
    "from pyspark.ml.feature import VectorAssembler"
   ]
  },
  {
   "cell_type": "code",
   "execution_count": 6,
   "metadata": {
    "collapsed": true
   },
   "outputs": [],
   "source": [
    "from pyspark.sql.types import *\n",
    "from pyspark.sql.functions import *"
   ]
  },
  {
   "cell_type": "code",
   "execution_count": 7,
   "metadata": {
    "collapsed": true
   },
   "outputs": [],
   "source": [
    "## Importing Required Libraries\n",
    "import numpy as np\n",
    "import StringIO\n",
    "import pandas as pd\n",
    "import warnings"
   ]
  },
  {
   "cell_type": "code",
   "execution_count": 47,
   "metadata": {
    "collapsed": true
   },
   "outputs": [],
   "source": [
    "##Define the Schema\n",
    "financialDistressSchema = StructType([\n",
    "         StructField(\"Target\", StringType(), True),\n",
    "         StructField(\"Utilization\", DoubleType(), True),\n",
    "         StructField(\"age\", IntegerType(), True),\n",
    "         StructField(\"FD_ind1\", IntegerType(), True),\n",
    "         StructField(\"Debt_Ratio\", DoubleType(), True),\n",
    "         StructField(\"Monthly_Income\", IntegerType(), True),\n",
    "         StructField(\"FD_ind2\", IntegerType(), True),\n",
    "         StructField(\"FD_ind3\", IntegerType(), True),        \n",
    "         StructField(\"FD_ind4\", IntegerType(), True),\n",
    "         StructField(\"FD_ind5\", IntegerType(), True),\n",
    "         StructField(\"NumberOfDependents\", IntegerType(), True)])"
   ]
  },
  {
   "cell_type": "code",
   "execution_count": 48,
   "metadata": {},
   "outputs": [
    {
     "data": {
      "text/plain": [
       "StructType(List(StructField(Target,StringType,true),StructField(Utilization,DoubleType,true),StructField(age,IntegerType,true),StructField(FD_ind1,IntegerType,true),StructField(Debt_Ratio,DoubleType,true),StructField(Monthly_Income,IntegerType,true),StructField(FD_ind2,IntegerType,true),StructField(FD_ind3,IntegerType,true),StructField(FD_ind4,IntegerType,true),StructField(FD_ind5,IntegerType,true),StructField(NumberOfDependents,IntegerType,true)))"
      ]
     },
     "execution_count": 48,
     "metadata": {},
     "output_type": "execute_result"
    }
   ],
   "source": [
    "financialDistressSchema"
   ]
  },
  {
   "cell_type": "markdown",
   "metadata": {},
   "source": [
    "### 1. Read the data and create dataframe and verify data."
   ]
  },
  {
   "cell_type": "code",
   "execution_count": 146,
   "metadata": {
    "collapsed": true
   },
   "outputs": [],
   "source": [
    "##Read the dataset into spark environment\n",
    "financialDistressData = spark.read.format(\"csv\")\\\n",
    ".option(\"header\", \"false\")\\\n",
    ".option(\"inferschema\",True)\\\n",
    ".option(\"nullvalue\", \"NA\")\\\n",
    ".load(\"/user/datasets/B34PHD/Batch34_phdData.csv\", schema = financialDistressSchema)\n"
   ]
  },
  {
   "cell_type": "code",
   "execution_count": 147,
   "metadata": {},
   "outputs": [
    {
     "name": "stdout",
     "output_type": "stream",
     "text": [
      "+------+-----------+---+-------+-----------+--------------+-------+-------+-------+-------+------------------+\n",
      "|Target|Utilization|age|FD_ind1| Debt_Ratio|Monthly_Income|FD_ind2|FD_ind3|FD_ind4|FD_ind5|NumberOfDependents|\n",
      "+------+-----------+---+-------+-----------+--------------+-------+-------+-------+-------+------------------+\n",
      "|     1|0.766126609| 45|      2|0.802982129|          9120|     13|      0|      6|      0|                 2|\n",
      "|     0|0.957151019| 40|      0|0.121876201|          2600|      4|      0|      0|      0|                 1|\n",
      "|     0| 0.65818014| 38|      1|0.085113375|          3042|      2|      1|      0|      0|                 0|\n",
      "|     0|0.233809776| 30|      0|0.036049682|          3300|      5|      0|      0|      0|                 0|\n",
      "|     0|  0.9072394| 49|      1|0.024925695|         63588|      7|      0|      1|      0|                 0|\n",
      "|     0|0.213178682| 74|      0|0.375606969|          3500|      3|      0|      1|      0|                 1|\n",
      "|     0|0.305682465| 57|      0|     5710.0|          null|      8|      0|      3|      0|                 0|\n",
      "|     0|0.754463648| 39|      0|0.209940017|          3500|      8|      0|      0|      0|                 0|\n",
      "|     0|0.116950644| 27|      0|       46.0|          null|      2|      0|      0|      0|              null|\n",
      "|     0|0.189169052| 57|      0|0.606290901|         23684|      9|      0|      4|      0|                 2|\n",
      "|     0|0.644225962| 30|      0| 0.30947621|          2500|      5|      0|      0|      0|                 0|\n",
      "|     0| 0.01879812| 51|      0| 0.53152876|          6501|      7|      0|      2|      0|                 2|\n",
      "|     0|0.010351857| 46|      0|0.298354075|         12454|     13|      0|      2|      0|                 2|\n",
      "|     1|0.964672555| 40|      3|0.382964747|         13700|      9|      3|      1|      1|                 2|\n",
      "|     0|0.019656581| 76|      0|      477.0|             0|      6|      0|      1|      0|                 0|\n",
      "|     0|0.548458062| 64|      0|0.209891754|         11362|      7|      0|      1|      0|                 2|\n",
      "|     0|0.061086118| 78|      0|     2058.0|          null|     10|      0|      2|      0|                 0|\n",
      "|     0|0.166284079| 53|      0| 0.18827406|          8800|      7|      0|      0|      0|                 0|\n",
      "|     0|0.221812771| 43|      0|0.527887839|          3280|      7|      0|      1|      0|                 2|\n",
      "|     0|0.602794411| 25|      0|0.065868263|           333|      2|      0|      0|      0|                 0|\n",
      "|     0|0.200923382| 43|      0|0.430046338|         12300|     10|      0|      2|      0|                 0|\n",
      "|     1|0.025655677| 38|      0|0.475841386|          3000|      7|      0|      1|      0|                 2|\n",
      "|     0|  0.9999999| 39|      0|0.241103559|          2500|      4|      0|      0|      0|                 0|\n",
      "|     0|0.075426584| 32|      0|0.085512189|          7916|      6|      0|      0|      0|                 0|\n",
      "|     0| 0.04656027| 58|      0|0.241621845|          2416|      9|      0|      1|      0|                 0|\n",
      "|     1|0.392248482| 50|      0|1.595253368|          4676|     14|      0|      3|      0|                 1|\n",
      "|     0|0.052436094| 58|      0|0.097672186|          8333|     22|      0|      1|      0|                 0|\n",
      "|     0|0.034421473| 69|      0|0.042383047|          2500|     17|      0|      0|      0|                 1|\n",
      "|     0|0.452515828| 24|      0|0.011761247|          3400|      1|      0|      0|      0|                 0|\n",
      "|     0|0.392994586| 58|      2|0.436102527|          5500|     15|      0|      1|      0|                 0|\n",
      "|     0|0.704073982| 28|      1|0.155201143|          4200|      8|      0|      0|      0|                 0|\n",
      "|     0|  0.9999999| 24|      0|0.472703063|           750|      1|      0|      0|      0|                 0|\n",
      "|     0|0.083418009| 62|      0|      977.0|          null|      6|      0|      1|      0|                 0|\n",
      "|     0|0.186868556| 57|      0|0.313812313|          7000|      9|      0|      2|      0|                 0|\n",
      "|     0|0.693329681| 42|      2|0.257731959|          2230|      7|      0|      0|      0|                 0|\n",
      "|     0|        0.0| 64|      0|0.073538769|         11000|      9|      0|      1|      0|                 0|\n",
      "|     0|0.881836362| 50|      3|0.567858035|          4000|      9|      0|      1|      0|                 1|\n",
      "|     0|  0.9999999| 75|      1|0.134078212|          3400|      1|      0|      1|      0|                 1|\n",
      "|     0|0.363636364| 26|      0| 0.00999001|          1000|      1|      0|      0|      0|                 0|\n",
      "|     0|0.304490668| 52|      0|0.808340474|          3500|     10|      0|      2|      0|                 0|\n",
      "|     0| 0.71998531| 41|      1|0.539554464|          5700|     14|      0|      1|      0|                 0|\n",
      "|     0| 0.07289757| 81|      0|       75.0|          null|      7|      0|      0|      0|                 0|\n",
      "|     0|0.469056842| 31|      0|0.048211004|          9250|      4|      0|      0|      0|                 1|\n",
      "|     0|0.718705378| 28|      0|0.170125614|          3661|      4|      0|      0|      0|                 1|\n",
      "|     0|0.368875933| 68|      0|     1687.5|             1|     31|      0|      1|      0|                 0|\n",
      "|     0| 6.02723E-4| 70|      0|0.177787036|         16800|     12|      0|      1|      0|                 2|\n",
      "|     0|0.061440132| 62|      0|0.011167837|          3133|      2|      0|      0|      0|                 0|\n",
      "|     0|0.140110634| 31|      0|0.689370485|          1937|      4|      0|      2|      0|                 0|\n",
      "|     0|0.834048027| 38|      0|0.393662026|         13000|     13|      0|      2|      0|                 2|\n",
      "|     0|    7.96E-5| 70|      0|0.256339661|          6900|     21|      1|      1|      0|                 0|\n",
      "|     0|0.818977517| 73|      0|     3095.0|             0|      9|      0|      1|      1|                 0|\n",
      "|     1|0.728150491| 31|      0|0.824725092|          3000|     10|      0|      2|      0|                 1|\n",
      "|     0|  0.9999999| 62|      0|        0.0|          null|      1|      0|      0|      0|                 0|\n",
      "|     0|0.028562367| 51|      0|0.306381499|          5750|      5|      0|      1|      0|                 0|\n",
      "|     0|0.992015968| 29|      0|0.008064516|          2231|      1|      0|      0|      0|                 0|\n",
      "|     0|0.070853769| 55|      0|0.073147745|         13793|      4|      0|      1|      0|                 0|\n",
      "|     0|0.454971915| 46|      1|0.016921775|         13000|     10|      0|      0|      0|                 1|\n",
      "|     0|0.401199782| 64|      0|0.351258937|          3216|      4|      0|      1|      0|                 0|\n",
      "|     0|0.541108804| 43|      0|     2477.0|          null|      3|      0|      1|      0|                 2|\n",
      "|     0|0.655569945| 35|      0|0.261609907|          5813|     10|      0|      0|      0|                 2|\n",
      "|     0|0.651603452| 58|      0|0.241135663|          7783|     11|      0|      1|      0|                 0|\n",
      "|     0|0.027399502| 69|      0| 0.00803428|          5600|      3|      0|      0|      0|                 0|\n",
      "|     0|0.101155821| 72|      0|     1720.0|          null|     12|      0|      2|      0|                 0|\n",
      "|     0|0.009788862| 46|      0|1.051397656|          3326|      6|      0|      2|      0|                 2|\n",
      "|     0|0.337520702| 60|      0|0.549877805|          4500|     10|      0|      2|      0|                 0|\n",
      "|     0|        0.0| 67|      0|0.540983607|          3720|      2|      0|      1|      0|                 0|\n",
      "|     0|0.750873672| 55|      2|0.316416365|          7723|     17|      0|      1|      0|                 1|\n",
      "|     0|0.006799093| 27|      1|0.681045752|           764|      3|      0|      0|      0|                 0|\n",
      "|     0|0.004264079| 31|      0|0.111444278|          2000|      6|      1|      0|      0|                 2|\n",
      "|     0| 0.26948375| 64|      0| 0.16106176|          9455|     13|      0|      1|      0|                 3|\n",
      "|     0|0.265898391| 36|      0|0.262611807|          8384|      6|      0|      2|      0|                 1|\n",
      "|     0|0.142013011| 67|      0|     1824.0|          null|      7|      0|      2|      0|                 0|\n",
      "|     0|0.827708197| 56|      0|0.369590815|          6793|     15|      1|      1|      0|                 0|\n",
      "|     0|0.059668871| 31|      0|     3162.0|             0|     11|      0|      2|      0|                 1|\n",
      "|     1| 0.13306279| 49|      1|0.182881653|         10257|      9|      0|      2|      0|                 3|\n",
      "|     0|0.234218112| 36|      0|0.116614347|          8600|     19|      0|      0|      0|                 3|\n",
      "|     0|0.122295933| 29|      0|0.694646949|          4800|      5|      0|      1|      0|                 0|\n",
      "|     0|0.460376317| 37|      0|0.074155949|          4975|      6|      0|      0|      0|                 0|\n",
      "|     0|0.335558577| 69|      0|0.270448637|         15000|     14|      0|      2|      0|                 1|\n",
      "|     0|0.270522569| 41|      0|2.797698945|          1042|     11|      0|      2|      0|                 2|\n",
      "|     0|0.183316667| 52|      0|0.111131623|         10833|     14|      0|      2|      0|                 1|\n",
      "|     0|0.074861676| 66|      0|0.208842479|          4500|      3|      0|      1|      0|                 0|\n",
      "|     0|0.017258977| 53|      0|2.604510673|         12414|     13|      0|      1|      0|                 2|\n",
      "|     0|0.054497069| 56|      0|0.492021814|          4950|     18|      0|      2|      0|                 0|\n",
      "|     0|0.029164236| 31|      0|0.395031809|          3300|     10|      0|      1|      0|                 0|\n",
      "|     0|        0.0| 58|      0|0.316144874|          4886|      9|      0|      1|      0|                 1|\n",
      "|     0|0.360509632| 58|      1|     3282.0|          null|      8|      0|      2|      0|                 0|\n",
      "|     0|0.003749688| 64|      0|0.004061231|          3200|      5|      0|      0|      1|                 0|\n",
      "|     1|0.734477501| 45|      0|0.591477634|          4716|     13|      0|      2|      0|                 2|\n",
      "|     0|0.080564168| 60|      0|0.487288997|          4916|     15|      0|      2|      0|                 0|\n",
      "|     0|0.039387786| 51|      0|    15466.0|             0|      7|      0|      0|      0|                 0|\n",
      "|     0|0.023767433| 83|      0|0.123797734|         10500|     13|      0|      0|      0|                 0|\n",
      "|     0|0.784835658| 52|      0|     2662.0|          null|     10|      0|      2|      1|                 0|\n",
      "|     0|0.888822236| 34|      0|0.368403802|          3050|      4|      0|      0|      0|                 1|\n",
      "|     0|0.791173628| 44|      0| 0.51241535|          3100|      5|      0|      1|      0|                 0|\n",
      "|     0| 0.24535301| 37|      0|0.288417167|          6500|     11|      1|      1|      1|                 0|\n",
      "|     0|0.542242704| 48|      2|       10.0|          null|      2|      0|      0|      0|              null|\n",
      "|     0|0.010531379| 57|      0|0.280664917|          5714|      6|      0|      1|      0|                 0|\n",
      "|     0|0.363199686| 32|      0|0.480523957|          2900|      4|      0|      1|      0|                 0|\n",
      "|     0|0.032617977| 75|      0|0.006799093|          7500|      4|      0|      0|      0|                 0|\n",
      "+------+-----------+---+-------+-----------+--------------+-------+-------+-------+-------+------------------+\n",
      "only showing top 100 rows\n",
      "\n"
     ]
    }
   ],
   "source": [
    "financialDistressData\n",
    "financialDistressData.show(100)"
   ]
  },
  {
   "cell_type": "code",
   "execution_count": 148,
   "metadata": {},
   "outputs": [
    {
     "name": "stdout",
     "output_type": "stream",
     "text": [
      "+-------+-------------------+------------------+------------------+------------------+------------------+------------------+-----------------+-------------------+------------------+-------------------+------------------+\n",
      "|summary|             Target|       Utilization|               age|           FD_ind1|        Debt_Ratio|    Monthly_Income|          FD_ind2|            FD_ind3|           FD_ind4|            FD_ind5|NumberOfDependents|\n",
      "+-------+-------------------+------------------+------------------+------------------+------------------+------------------+-----------------+-------------------+------------------+-------------------+------------------+\n",
      "|  count|             150000|            150000|            150000|            150000|            150000|            120269|           150000|             150000|            150000|             150000|            146076|\n",
      "|   mean|            0.06684| 6.048438054666852|52.295206666666665|0.4210333333333333|353.00507576387264| 6670.221237392844|          8.45276|0.26597333333333334|           1.01824|0.24038666666666667|0.7572222678605657|\n",
      "| stddev|0.24974553092871987|249.75537062544072| 14.77186586310033| 4.192781272018336|2037.8185231443663|14384.674215282083|5.145950989643285|   4.16930378759444|1.1297709848828514|  4.155179420987238|1.1150860714871482|\n",
      "|    min|                  0|               0.0|                 0|                 0|               0.0|                 0|                0|                  0|                 0|                  0|                 0|\n",
      "|    max|                  1|           50708.0|               109|                98|          329664.0|           3008750|               58|                 98|                54|                 98|                20|\n",
      "+-------+-------------------+------------------+------------------+------------------+------------------+------------------+-----------------+-------------------+------------------+-------------------+------------------+\n",
      "\n"
     ]
    }
   ],
   "source": [
    "## Describes statistics\n",
    "financialDistressData.describe().show()"
   ]
  },
  {
   "cell_type": "markdown",
   "metadata": {},
   "source": [
    "### 2. Display the count of rows and columns"
   ]
  },
  {
   "cell_type": "code",
   "execution_count": 149,
   "metadata": {},
   "outputs": [
    {
     "name": "stdout",
     "output_type": "stream",
     "text": [
      "Total records count is 150000\n",
      "Total Coloumns count is 11\n",
      "\n",
      "\n",
      " Coloumns ['Target', 'Utilization', 'age', 'FD_ind1', 'Debt_Ratio', 'Monthly_Income', 'FD_ind2', 'FD_ind3', 'FD_ind4', 'FD_ind5', 'NumberOfDependents']\n"
     ]
    }
   ],
   "source": [
    "financialDistressData.dtypes\n",
    "#financialDistressData.count()\n",
    "print(\"Total records count is {}\".format(financialDistressData.count())) ##Total records\n",
    "print(\"Total Coloumns count is {}\".format(len(financialDistressData.columns)))\n",
    "print(\"\\n\\n Coloumns {}\".format((financialDistressData.columns)))"
   ]
  },
  {
   "cell_type": "markdown",
   "metadata": {},
   "source": [
    "## 3. Give the percentage distribution of Target attribute and verify if it is a im-balance class problem or not"
   ]
  },
  {
   "cell_type": "code",
   "execution_count": 150,
   "metadata": {},
   "outputs": [
    {
     "name": "stdout",
     "output_type": "stream",
     "text": [
      "139974\n",
      "10026\n"
     ]
    }
   ],
   "source": [
    "zero = financialDistressData.where(financialDistressData.Target == \"0\")\n",
    "one = financialDistressData.where(financialDistressData.Target == \"1\")\n",
    "print(zero.count())\n",
    "print(one.count())\n",
    "#percentageImbalance = (DoubleType(one.count())) / (DoubleType(zero.count())))\n",
    "#print(\"Percentage of distribution of target variable is {}\" .format(percentageImbalance))"
   ]
  },
  {
   "cell_type": "code",
   "execution_count": null,
   "metadata": {
    "collapsed": true
   },
   "outputs": [],
   "source": []
  },
  {
   "cell_type": "markdown",
   "metadata": {},
   "source": [
    "## 4. After you create the dataframe in the first step , Target attribute will be in the first column of the dataframe , make it as the last column of the dataframe"
   ]
  },
  {
   "cell_type": "code",
   "execution_count": 151,
   "metadata": {},
   "outputs": [
    {
     "name": "stdout",
     "output_type": "stream",
     "text": [
      "['Target', 'Utilization', 'age', 'FD_ind1', 'Debt_Ratio', 'Monthly_Income', 'FD_ind2', 'FD_ind3', 'FD_ind4', 'FD_ind5', 'NumberOfDependents']\n",
      "['Utilization', 'age', 'FD_ind1', 'Debt_Ratio', 'Monthly_Income', 'FD_ind2', 'FD_ind3', 'FD_ind4', 'FD_ind5', 'NumberOfDependents', 'Target']\n"
     ]
    }
   ],
   "source": [
    "print(financialDistressData.columns)\n",
    "#listCols\n",
    "financialDistressData = financialDistressData.select(['Utilization', 'age','FD_ind1','Debt_Ratio', 'Monthly_Income', 'FD_ind2', 'FD_ind3', 'FD_ind4', 'FD_ind5', 'NumberOfDependents', 'Target'])\n",
    "#print(financialDistressData.columns)\n",
    "print(financialDistressData.columns)\n"
   ]
  },
  {
   "cell_type": "code",
   "execution_count": null,
   "metadata": {
    "collapsed": true
   },
   "outputs": [],
   "source": []
  },
  {
   "cell_type": "markdown",
   "metadata": {},
   "source": [
    "## 5.  Find out which feature has how many numbers of missing values."
   ]
  },
  {
   "cell_type": "code",
   "execution_count": null,
   "metadata": {
    "collapsed": true
   },
   "outputs": [],
   "source": [
    "\n"
   ]
  },
  {
   "cell_type": "code",
   "execution_count": 152,
   "metadata": {},
   "outputs": [
    {
     "name": "stdout",
     "output_type": "stream",
     "text": [
      "+-----------+---+-------+----------+--------------+-------+-------+-------+-------+------------------+------+\n",
      "|Utilization|age|FD_ind1|Debt_Ratio|Monthly_Income|FD_ind2|FD_ind3|FD_ind4|FD_ind5|NumberOfDependents|Target|\n",
      "+-----------+---+-------+----------+--------------+-------+-------+-------+-------+------------------+------+\n",
      "|          0|  0|      0|         0|         29731|      0|      0|      0|      0|              3924|     0|\n",
      "+-----------+---+-------+----------+--------------+-------+-------+-------+-------+------------------+------+\n",
      "\n"
     ]
    }
   ],
   "source": [
    "from pyspark.sql.functions import isnan, when, count, col, sum, avg\n",
    "\n",
    "financialDistressData.select([count(when(isnan(c) | col(c).isNull(), c)).alias(c) for c in financialDistressData.columns]).show()\n"
   ]
  },
  {
   "cell_type": "markdown",
   "metadata": {},
   "source": [
    "## 6. Fill the missing values for features as given below (Do not delete the rows with Null/Missing values):\n",
    " ## Monthly_Income, NumberOfDependents has missing values"
   ]
  },
  {
   "cell_type": "code",
   "execution_count": 153,
   "metadata": {
    "collapsed": true
   },
   "outputs": [],
   "source": [
    "def fill_with_mean(df, exclude=set()): \n",
    "    stats = df.agg(*(\n",
    "        avg(c).alias(c) for c in df.columns if c in exclude\n",
    "    ))\n",
    "    return df.na.fill(stats.first().asDict())\n",
    "\n",
    "financialDistressData = fill_with_mean(financialDistressData, [\"Monthly_Income\"])\n",
    "\n"
   ]
  },
  {
   "cell_type": "code",
   "execution_count": 154,
   "metadata": {
    "collapsed": true
   },
   "outputs": [],
   "source": [
    "\n",
    "financialDistressData =  financialDistressData.na.fill(0)"
   ]
  },
  {
   "cell_type": "markdown",
   "metadata": {},
   "source": [
    "### 7. Once you fill out the missing values proceed for the steps to apply any Spark machie learning technique of your choice and try to see the accuracy of your models."
   ]
  },
  {
   "cell_type": "markdown",
   "metadata": {},
   "source": [
    "\n",
    "## Build model using Logistic Regression\n"
   ]
  },
  {
   "cell_type": "code",
   "execution_count": 155,
   "metadata": {
    "collapsed": true
   },
   "outputs": [],
   "source": [
    "numFeatures = ['Utilization', 'age', 'FD_ind1', 'Debt_Ratio', 'Monthly_Income', 'FD_ind2', 'FD_ind3', 'FD_ind4', 'FD_ind5', 'NumberOfDependents']\n",
    "allFeat = numFeatures"
   ]
  },
  {
   "cell_type": "code",
   "execution_count": 156,
   "metadata": {
    "collapsed": true
   },
   "outputs": [],
   "source": [
    "assembler = VectorAssembler(inputCols=allFeat, outputCol='features')\n",
    "\n",
    "#financialDistressData = assembler.transform(financialDistressData)\n",
    "#financialDistressData = financialDistressData.withColumn( \"label\", financialDistressData.Target)\n",
    "#financialDistressData.show(10, truncate=False)"
   ]
  },
  {
   "cell_type": "code",
   "execution_count": 145,
   "metadata": {},
   "outputs": [
    {
     "name": "stdout",
     "output_type": "stream",
     "text": [
      "+--------------------------------------------------------------+-----+\n",
      "|features                                                      |label|\n",
      "+--------------------------------------------------------------+-----+\n",
      "|[0.766126609,45.0,2.0,0.802982129,9120.0,13.0,0.0,6.0,0.0,2.0]|1    |\n",
      "|[0.957151019,40.0,0.0,0.121876201,2600.0,4.0,0.0,0.0,0.0,1.0] |0    |\n",
      "|[0.65818014,38.0,1.0,0.085113375,3042.0,2.0,1.0,0.0,0.0,0.0]  |0    |\n",
      "|(10,[0,1,3,4,5],[0.233809776,30.0,0.036049682,3300.0,5.0])    |0    |\n",
      "|[0.9072394,49.0,1.0,0.024925695,63588.0,7.0,0.0,1.0,0.0,0.0]  |0    |\n",
      "+--------------------------------------------------------------+-----+\n",
      "only showing top 5 rows\n",
      "\n"
     ]
    }
   ],
   "source": [
    "#financialDistressData.select('features', 'label').show(5, truncate=False)"
   ]
  },
  {
   "cell_type": "code",
   "execution_count": 159,
   "metadata": {
    "collapsed": true
   },
   "outputs": [],
   "source": [
    "train,test=financialDistressData.randomSplit([0.7, 0.3])\n"
   ]
  },
  {
   "cell_type": "code",
   "execution_count": 161,
   "metadata": {},
   "outputs": [
    {
     "data": {
      "text/plain": [
       "StringIndexer_449dbc8023c3e32a0152"
      ]
     },
     "execution_count": 161,
     "metadata": {},
     "output_type": "execute_result"
    }
   ],
   "source": [
    "labelIndexer = StringIndexer(inputCol=\"Target\", outputCol=\"indexedLabel\").fit(train)\n",
    "labelIndexer"
   ]
  },
  {
   "cell_type": "code",
   "execution_count": 162,
   "metadata": {},
   "outputs": [
    {
     "data": {
      "text/plain": [
       "IndexToString_467f8ba0761ffc38abe4"
      ]
     },
     "execution_count": 162,
     "metadata": {},
     "output_type": "execute_result"
    }
   ],
   "source": [
    "from pyspark.ml.feature import IndexToString\n",
    "labelConverter = IndexToString(inputCol=\"prediction\",outputCol=\"predictedLabel\",labels=labelIndexer.labels)\n",
    "labelConverter\n"
   ]
  },
  {
   "cell_type": "code",
   "execution_count": 163,
   "metadata": {
    "collapsed": true
   },
   "outputs": [],
   "source": [
    "from pyspark.ml.classification import LogisticRegression\n",
    "from pyspark.ml import Pipeline\n",
    "\n",
    "lr = LogisticRegression(maxIter=30,labelCol=\"indexedLabel\", featuresCol=\"features\")"
   ]
  },
  {
   "cell_type": "code",
   "execution_count": 166,
   "metadata": {},
   "outputs": [
    {
     "name": "stdout",
     "output_type": "stream",
     "text": [
      "+------------+--------------+----------+\n",
      "|indexedLabel|predictedLabel|prediction|\n",
      "+------------+--------------+----------+\n",
      "|0.0         |0             |0.0       |\n",
      "|0.0         |0             |0.0       |\n",
      "|0.0         |0             |0.0       |\n",
      "|0.0         |0             |0.0       |\n",
      "|0.0         |0             |0.0       |\n",
      "|0.0         |0             |0.0       |\n",
      "|0.0         |0             |0.0       |\n",
      "|0.0         |0             |0.0       |\n",
      "|0.0         |0             |0.0       |\n",
      "|0.0         |0             |0.0       |\n",
      "|0.0         |0             |0.0       |\n",
      "|0.0         |0             |0.0       |\n",
      "|0.0         |0             |0.0       |\n",
      "|0.0         |0             |0.0       |\n",
      "|0.0         |0             |0.0       |\n",
      "|0.0         |0             |0.0       |\n",
      "|0.0         |0             |0.0       |\n",
      "|0.0         |0             |0.0       |\n",
      "|0.0         |0             |0.0       |\n",
      "|0.0         |0             |0.0       |\n",
      "|0.0         |0             |0.0       |\n",
      "|0.0         |0             |0.0       |\n",
      "|0.0         |0             |0.0       |\n",
      "|0.0         |0             |0.0       |\n",
      "|0.0         |0             |0.0       |\n",
      "|0.0         |0             |0.0       |\n",
      "|0.0         |0             |0.0       |\n",
      "|0.0         |0             |0.0       |\n",
      "|0.0         |0             |0.0       |\n",
      "|0.0         |0             |0.0       |\n",
      "|0.0         |0             |0.0       |\n",
      "|0.0         |0             |0.0       |\n",
      "|0.0         |0             |0.0       |\n",
      "|0.0         |0             |0.0       |\n",
      "|0.0         |0             |0.0       |\n",
      "|0.0         |0             |0.0       |\n",
      "|0.0         |0             |0.0       |\n",
      "|0.0         |0             |0.0       |\n",
      "|0.0         |0             |0.0       |\n",
      "|0.0         |0             |0.0       |\n",
      "|0.0         |0             |0.0       |\n",
      "|0.0         |0             |0.0       |\n",
      "|0.0         |0             |0.0       |\n",
      "|0.0         |0             |0.0       |\n",
      "|0.0         |0             |0.0       |\n",
      "|0.0         |0             |0.0       |\n",
      "|0.0         |0             |0.0       |\n",
      "|0.0         |0             |0.0       |\n",
      "|0.0         |0             |0.0       |\n",
      "|0.0         |0             |0.0       |\n",
      "|0.0         |0             |0.0       |\n",
      "|0.0         |0             |0.0       |\n",
      "|0.0         |0             |0.0       |\n",
      "|0.0         |0             |0.0       |\n",
      "|0.0         |0             |0.0       |\n",
      "|0.0         |0             |0.0       |\n",
      "|0.0         |0             |0.0       |\n",
      "|0.0         |0             |0.0       |\n",
      "|0.0         |0             |0.0       |\n",
      "|0.0         |0             |0.0       |\n",
      "|0.0         |0             |0.0       |\n",
      "|0.0         |0             |0.0       |\n",
      "|0.0         |0             |0.0       |\n",
      "|0.0         |0             |0.0       |\n",
      "|0.0         |0             |0.0       |\n",
      "|0.0         |0             |0.0       |\n",
      "|0.0         |0             |0.0       |\n",
      "|0.0         |0             |0.0       |\n",
      "|0.0         |0             |0.0       |\n",
      "|0.0         |0             |0.0       |\n",
      "|0.0         |0             |0.0       |\n",
      "|0.0         |0             |0.0       |\n",
      "|0.0         |0             |0.0       |\n",
      "|0.0         |0             |0.0       |\n",
      "|0.0         |0             |0.0       |\n",
      "|0.0         |0             |0.0       |\n",
      "|0.0         |0             |0.0       |\n",
      "|0.0         |0             |0.0       |\n",
      "|0.0         |0             |0.0       |\n",
      "|0.0         |0             |0.0       |\n",
      "|0.0         |0             |0.0       |\n",
      "|0.0         |0             |0.0       |\n",
      "|0.0         |0             |0.0       |\n",
      "|0.0         |0             |0.0       |\n",
      "|0.0         |0             |0.0       |\n",
      "|0.0         |0             |0.0       |\n",
      "|0.0         |0             |0.0       |\n",
      "|0.0         |0             |0.0       |\n",
      "|0.0         |0             |0.0       |\n",
      "|0.0         |0             |0.0       |\n",
      "|0.0         |0             |0.0       |\n",
      "|0.0         |0             |0.0       |\n",
      "|0.0         |0             |0.0       |\n",
      "|0.0         |0             |0.0       |\n",
      "|0.0         |0             |0.0       |\n",
      "|0.0         |0             |0.0       |\n",
      "|0.0         |0             |0.0       |\n",
      "|0.0         |0             |0.0       |\n",
      "|0.0         |0             |0.0       |\n",
      "|0.0         |0             |0.0       |\n",
      "+------------+--------------+----------+\n",
      "only showing top 100 rows\n",
      "\n"
     ]
    }
   ],
   "source": [
    "stages=[labelIndexer,assembler]\n",
    "stages.append(lr)\n",
    "stages.append(labelConverter)\n",
    "\n",
    "pipeline = Pipeline(stages=stages)\n",
    "\n",
    "model = pipeline.fit(train)\n",
    "predictions = model.transform(train)\n"
   ]
  },
  {
   "cell_type": "code",
   "execution_count": 187,
   "metadata": {},
   "outputs": [
    {
     "name": "stdout",
     "output_type": "stream",
     "text": [
      "+------------+--------------+----------+\n",
      "|indexedLabel|predictedLabel|prediction|\n",
      "+------------+--------------+----------+\n",
      "|0.0         |0             |0.0       |\n",
      "|0.0         |0             |0.0       |\n",
      "|0.0         |0             |0.0       |\n",
      "|0.0         |0             |0.0       |\n",
      "|0.0         |0             |0.0       |\n",
      "|0.0         |0             |0.0       |\n",
      "|0.0         |0             |0.0       |\n",
      "|0.0         |0             |0.0       |\n",
      "|0.0         |0             |0.0       |\n",
      "|0.0         |0             |0.0       |\n",
      "|0.0         |0             |0.0       |\n",
      "|0.0         |0             |0.0       |\n",
      "|0.0         |0             |0.0       |\n",
      "|0.0         |0             |0.0       |\n",
      "|0.0         |0             |0.0       |\n",
      "|0.0         |0             |0.0       |\n",
      "|0.0         |0             |0.0       |\n",
      "|0.0         |0             |0.0       |\n",
      "|0.0         |0             |0.0       |\n",
      "|0.0         |0             |0.0       |\n",
      "|0.0         |0             |0.0       |\n",
      "|0.0         |0             |0.0       |\n",
      "|0.0         |0             |0.0       |\n",
      "|0.0         |0             |0.0       |\n",
      "|0.0         |0             |0.0       |\n",
      "|0.0         |0             |0.0       |\n",
      "|0.0         |0             |0.0       |\n",
      "|0.0         |0             |0.0       |\n",
      "|0.0         |0             |0.0       |\n",
      "|0.0         |0             |0.0       |\n",
      "|0.0         |0             |0.0       |\n",
      "|0.0         |0             |0.0       |\n",
      "|0.0         |0             |0.0       |\n",
      "|0.0         |0             |0.0       |\n",
      "|0.0         |0             |0.0       |\n",
      "|0.0         |0             |0.0       |\n",
      "|0.0         |0             |0.0       |\n",
      "|0.0         |0             |0.0       |\n",
      "|0.0         |0             |0.0       |\n",
      "|0.0         |0             |0.0       |\n",
      "|0.0         |0             |0.0       |\n",
      "|0.0         |0             |0.0       |\n",
      "|0.0         |0             |0.0       |\n",
      "|0.0         |0             |0.0       |\n",
      "|0.0         |0             |0.0       |\n",
      "|0.0         |0             |0.0       |\n",
      "|0.0         |0             |0.0       |\n",
      "|0.0         |0             |0.0       |\n",
      "|0.0         |0             |0.0       |\n",
      "|0.0         |0             |0.0       |\n",
      "|0.0         |0             |0.0       |\n",
      "|0.0         |0             |0.0       |\n",
      "|0.0         |0             |0.0       |\n",
      "|0.0         |0             |0.0       |\n",
      "|0.0         |0             |0.0       |\n",
      "|0.0         |0             |0.0       |\n",
      "|0.0         |0             |0.0       |\n",
      "|0.0         |0             |0.0       |\n",
      "|0.0         |0             |0.0       |\n",
      "|0.0         |0             |0.0       |\n",
      "|0.0         |0             |0.0       |\n",
      "|0.0         |0             |0.0       |\n",
      "|0.0         |0             |0.0       |\n",
      "|0.0         |0             |0.0       |\n",
      "|0.0         |0             |0.0       |\n",
      "|0.0         |0             |0.0       |\n",
      "|0.0         |0             |0.0       |\n",
      "|0.0         |0             |0.0       |\n",
      "|0.0         |0             |0.0       |\n",
      "|0.0         |0             |0.0       |\n",
      "|0.0         |0             |0.0       |\n",
      "|0.0         |0             |0.0       |\n",
      "|0.0         |0             |0.0       |\n",
      "|0.0         |0             |0.0       |\n",
      "|0.0         |0             |0.0       |\n",
      "|0.0         |0             |0.0       |\n",
      "|0.0         |0             |0.0       |\n",
      "|0.0         |0             |0.0       |\n",
      "|0.0         |0             |0.0       |\n",
      "|0.0         |0             |0.0       |\n",
      "|0.0         |0             |0.0       |\n",
      "|0.0         |0             |0.0       |\n",
      "|0.0         |0             |0.0       |\n",
      "|0.0         |0             |0.0       |\n",
      "|0.0         |0             |0.0       |\n",
      "|0.0         |0             |0.0       |\n",
      "|0.0         |0             |0.0       |\n",
      "|0.0         |0             |0.0       |\n",
      "|0.0         |0             |0.0       |\n",
      "|0.0         |0             |0.0       |\n",
      "|0.0         |0             |0.0       |\n",
      "|0.0         |0             |0.0       |\n",
      "|0.0         |0             |0.0       |\n",
      "|0.0         |0             |0.0       |\n",
      "|0.0         |0             |0.0       |\n",
      "|0.0         |0             |0.0       |\n",
      "|0.0         |0             |0.0       |\n",
      "|0.0         |0             |0.0       |\n",
      "|0.0         |0             |0.0       |\n",
      "|0.0         |0             |0.0       |\n",
      "+------------+--------------+----------+\n",
      "only showing top 100 rows\n",
      "\n"
     ]
    }
   ],
   "source": [
    "predictions.select(\"indexedLabel\",\"predictedLabel\", \"prediction\").show(100,False)\n"
   ]
  },
  {
   "cell_type": "code",
   "execution_count": 188,
   "metadata": {},
   "outputs": [
    {
     "data": {
      "text/plain": [
       "Column<prediction>"
      ]
     },
     "execution_count": 188,
     "metadata": {},
     "output_type": "execute_result"
    }
   ],
   "source": [
    "predictions.prediction"
   ]
  },
  {
   "cell_type": "code",
   "execution_count": 171,
   "metadata": {},
   "outputs": [
    {
     "name": "stdout",
     "output_type": "stream",
     "text": [
      "True Positives: 281\n",
      "True Negatives: 97976\n",
      "False Positives: 215\n",
      "False Negatives: 6755\n",
      "Total Train 105227\n"
     ]
    }
   ],
   "source": [
    "\n",
    "true_positive = predictions[(predictions.indexedLabel == 1) & (predictions.prediction == 1.0)].count()\n",
    "true_negative = predictions[(predictions.indexedLabel == 0) & (predictions.prediction == 0.0)].count()\n",
    "false_positive = predictions[(predictions.indexedLabel == 0) & (predictions.prediction == 1.0)].count()\n",
    "false_negative = predictions[(predictions.indexedLabel == 1) & (predictions.prediction == 0.0)].count()\n",
    "print \"True Positives:\", true_positive\n",
    "print \"True Negatives:\", true_negative\n",
    "print \"False Positives:\", false_positive\n",
    "print \"False Negatives:\", false_negative\n",
    "print \"Total Train\", predictions.count()\n",
    "\n"
   ]
  },
  {
   "cell_type": "code",
   "execution_count": 172,
   "metadata": {
    "collapsed": true
   },
   "outputs": [],
   "source": [
    "\n",
    "def recallValue(tp, fn):\n",
    "    rec = float(tp)/float(tp+fn)\n",
    "    return rec"
   ]
  },
  {
   "cell_type": "code",
   "execution_count": 173,
   "metadata": {},
   "outputs": [
    {
     "name": "stdout",
     "output_type": "stream",
     "text": [
      "training recall value is 0.0399374644684\n"
     ]
    }
   ],
   "source": [
    "recall = recallValue(true_positive,false_negative)\n",
    "print(\"training recall value is {}\".format(recall))"
   ]
  },
  {
   "cell_type": "code",
   "execution_count": 183,
   "metadata": {},
   "outputs": [
    {
     "name": "stdout",
     "output_type": "stream",
     "text": [
      "True Positives _test: 123\n",
      "True Negatives _test: 41690\n",
      "False Positives _test: 93\n",
      "False Negatives_test: 2867\n",
      "Total _test 44773\n"
     ]
    }
   ],
   "source": [
    "pred_test=model.transform(test)\n",
    "true_positive_test = pred_test[(pred_test.indexedLabel == 1) & (pred_test.prediction == 1.0)].count()\n",
    "true_negative_test = pred_test[(pred_test.indexedLabel == 0) & (pred_test.prediction == 0.0)].count()\n",
    "false_positive_test = pred_test[(pred_test.indexedLabel == 0) & (pred_test.prediction == 1.0)].count()\n",
    "false_negative_test = pred_test[(pred_test.indexedLabel == 1) & (pred_test.prediction == 0.0)].count()\n",
    "print \"True Positives _test:\", true_positive_test\n",
    "print \"True Negatives _test:\", true_negative_test\n",
    "print \"False Positives _test:\", false_positive_test\n",
    "print \"False Negatives_test:\", false_negative_test\n",
    "print \"Total _test\", pred_test.count()"
   ]
  },
  {
   "cell_type": "code",
   "execution_count": 186,
   "metadata": {},
   "outputs": [
    {
     "name": "stdout",
     "output_type": "stream",
     "text": [
      "test recall value is 0.0411371237458\n"
     ]
    }
   ],
   "source": [
    "recall_test = recallValue(true_positive_test, false_negative_test)\n",
    "print(\"test recall value is {}\".format(recall_test))"
   ]
  },
  {
   "cell_type": "code",
   "execution_count": null,
   "metadata": {
    "collapsed": true
   },
   "outputs": [],
   "source": []
  },
  {
   "cell_type": "markdown",
   "metadata": {},
   "source": [
    "### Random Forest"
   ]
  },
  {
   "cell_type": "code",
   "execution_count": 176,
   "metadata": {
    "collapsed": true
   },
   "outputs": [],
   "source": [
    "from pyspark.ml.classification import RandomForestClassifier\n",
    "rf = RandomForestClassifier(labelCol=\"indexedLabel\", featuresCol=\"features\",numTrees=100,maxDepth=12,maxBins=8)\n"
   ]
  },
  {
   "cell_type": "code",
   "execution_count": 178,
   "metadata": {
    "collapsed": true
   },
   "outputs": [],
   "source": [
    "stages1=[labelIndexer,assembler]\n",
    "stages1.append(rf)\n",
    "stages1.append(labelConverter)\n",
    "\n",
    "pipeline_rf = Pipeline(stages=stages1)\n",
    "\n",
    "model_rf = pipeline.fit(train)\n",
    "predictions_rf = model.transform(train)"
   ]
  },
  {
   "cell_type": "code",
   "execution_count": 180,
   "metadata": {},
   "outputs": [
    {
     "name": "stdout",
     "output_type": "stream",
     "text": [
      "True Positives: 281\n",
      "True Negatives: 97976\n",
      "False Positives: 215\n",
      "False Negatives: 6755\n",
      "Total RF 105227\n"
     ]
    }
   ],
   "source": [
    "true_positive_rf = predictions_rf[(predictions_rf.indexedLabel == 1) & (predictions_rf.prediction == 1.0)].count()\n",
    "true_negative_rf = predictions_rf[(predictions_rf.indexedLabel == 0) & (predictions_rf.prediction == 0.0)].count()\n",
    "false_positive_rf = predictions_rf[(predictions_rf.indexedLabel == 0) & (predictions_rf.prediction == 1.0)].count()\n",
    "false_negative_rf = predictions_rf[(predictions_rf.indexedLabel == 1) & (predictions_rf.prediction == 0.0)].count()\n",
    "print \"True Positives:\", true_positive_rf\n",
    "print \"True Negatives:\", true_negative_rf\n",
    "print \"False Positives:\", false_positive_rf\n",
    "print \"False Negatives:\", false_negative_rf\n",
    "print \"Total RF\", predictions_rf.count()"
   ]
  },
  {
   "cell_type": "code",
   "execution_count": null,
   "metadata": {
    "collapsed": true
   },
   "outputs": [],
   "source": []
  },
  {
   "cell_type": "code",
   "execution_count": 181,
   "metadata": {},
   "outputs": [
    {
     "name": "stdout",
     "output_type": "stream",
     "text": [
      "True Positives: 123\n",
      "True Negatives: 41690\n",
      "False Positives: 93\n",
      "False Negatives: 2867\n",
      "Total 44773\n"
     ]
    }
   ],
   "source": [
    "\n",
    "pred_rf_test=model.transform(test)\n",
    "true_positive_rft = pred_rf_test[(pred_rf_test.indexedLabel == 1) & (pred_rf_test.prediction == 1.0)].count()\n",
    "true_negative_rft = pred_rf_test[(pred_rf_test.indexedLabel == 0) & (pred_rf_test.prediction == 0.0)].count()\n",
    "false_positive_rft = pred_rf_test[(pred_rf_test.indexedLabel == 0) & (pred_rf_test.prediction == 1.0)].count()\n",
    "false_negative_rft = pred_rf_test[(pred_rf_test.indexedLabel == 1) & (pred_rf_test.prediction == 0.0)].count()\n",
    "print \"True Positives:\", true_positive_rft\n",
    "print \"True Negatives:\", true_negative_rft\n",
    "print \"False Positives:\", false_positive_rft\n",
    "print \"False Negatives:\", false_negative_rft\n",
    "print \"Total\", pred_rf_test.count()\n",
    "\n"
   ]
  },
  {
   "cell_type": "code",
   "execution_count": 182,
   "metadata": {},
   "outputs": [
    {
     "name": "stdout",
     "output_type": "stream",
     "text": [
      "Recall Test RF is 0.0411371237458\n"
     ]
    }
   ],
   "source": [
    "print(\"Recall Test RF is {}\".format(recallValue(true_positive_rft, false_negative_rft)))\n",
    "\n",
    "\n"
   ]
  },
  {
   "cell_type": "markdown",
   "metadata": {},
   "source": [
    "\n",
    "Both the models have approximately same Recall value"
   ]
  },
  {
   "cell_type": "code",
   "execution_count": null,
   "metadata": {
    "collapsed": true
   },
   "outputs": [],
   "source": []
  }
 ],
 "metadata": {
  "kernelspec": {
   "display_name": "Python 3",
   "language": "python",
   "name": "python3"
  },
  "language_info": {
   "codemirror_mode": {
    "name": "ipython",
    "version": 3
   },
   "file_extension": ".py",
   "mimetype": "text/x-python",
   "name": "python",
   "nbconvert_exporter": "python",
   "pygments_lexer": "ipython3",
   "version": "3.6.3"
  }
 },
 "nbformat": 4,
 "nbformat_minor": 2
}
